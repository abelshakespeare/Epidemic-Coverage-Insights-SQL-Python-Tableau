{
 "cells": [
  {
   "cell_type": "markdown",
   "metadata": {},
   "source": [
    "# Setting Up Your Jupyter Notebook for Visualization Preparation\n",
    "\n",
    "## 1. Introduction\n",
    "\n",
    "**Purpose:** This notebook will prepare and export data sets optimized for creating visualizations in Tableau. The focus is on the significant difference in Paxlovid availability between urban and rural providers.\n",
    "\n",
    "**Summary of Findings:** Previous analyses revealed a significant disparity in the availability of Paxlovid between urban and rural areas, necessitating targeted visualizations to better understand geographical distributions and potential biases in treatment accessibility.\n",
    "\n",
    "## 2. Setup and Configuration\n",
    "\n",
    "### Import Libraries"
   ]
  },
  {
   "cell_type": "code",
   "execution_count": null,
   "metadata": {},
   "outputs": [],
   "source": [
    "import pandas as pd\n",
    "import sqlalchemy as sa\n",
    "import matplotlib.pyplot as plt"
   ]
  },
  {
   "cell_type": "markdown",
   "metadata": {},
   "source": [
    "# Database Connection"
   ]
  },
  {
   "cell_type": "code",
   "execution_count": null,
   "metadata": {},
   "outputs": [],
   "source": [
    "DATABASE_URL = \"postgresql://abelshakespeare:@localhost/postgres\"\n",
    "engine = sa.create_engine(DATABASE_URL)\n",
    "connection = engine.connect()"
   ]
  },
  {
   "cell_type": "markdown",
   "metadata": {},
   "source": [
    "# 3. Data Retrieval"
   ]
  },
  {
   "cell_type": "code",
   "execution_count": null,
   "metadata": {},
   "outputs": [],
   "source": [
    "query = \"\"\"\n",
    "SELECT \n",
    "    pi.*,\n",
    "    pl.*,\n",
    "    ps.*,\n",
    "    pa.has_paxlovid,\n",
    "    pa.has_lagevrio,\n",
    "    pa.has_veklury,\n",
    "    zu.is_urban,  -- This is critical\n",
    "    CASE\n",
    "        WHEN pa.has_paxlovid THEN 'Paxlovid'\n",
    "        WHEN pa.has_lagevrio THEN 'Lagevrio'\n",
    "        WHEN pa.has_veklury THEN 'Veklury'\n",
    "        ELSE 'No Treatment'\n",
    "    END as treatment_type\n",
    "FROM \n",
    "    provider_info pi\n",
    "JOIN \n",
    "    provider_location pl ON pi.provider_id = pl.provider_id\n",
    "JOIN \n",
    "    provider_services ps ON pi.provider_id = ps.provider_id\n",
    "JOIN \n",
    "    product_availability pa ON pi.provider_id = pa.provider_id\n",
    "LEFT JOIN \n",
    "    zipcode_urbanity zu ON pl.zip = zu.zip;\n",
    "\n",
    "\"\"\"\n",
    "df = pd.read_sql(query, connection)"
   ]
  },
  {
   "cell_type": "markdown",
   "metadata": {},
   "source": [
    "## 4. Enhancing Data for Visualization\n",
    "\n",
    "### Categorize Urban vs. Rural"
   ]
  },
  {
   "cell_type": "code",
   "execution_count": null,
   "metadata": {},
   "outputs": [],
   "source": [
    "df['location_type'] = df['is_urban'].apply(lambda x: 'Urban' if x else 'Rural')\n"
   ]
  },
  {
   "cell_type": "markdown",
   "metadata": {},
   "source": [
    "# Calculate availability rates for Paxlovid, Lagevrio, and Veklury\n"
   ]
  },
  {
   "cell_type": "code",
   "execution_count": null,
   "metadata": {},
   "outputs": [],
   "source": [
    "df['paxlovid_available'] = df['has_paxlovid'].apply(lambda x: 'Available' if x else 'Not Available')\n",
    "df['lagevrio_available'] = df['has_lagevrio'].apply(lambda x: 'Available' if x else 'Not Available')\n",
    "df['veklury_available'] = df['has_veklury'].apply(lambda x: 'Available' if x else 'Not Available')"
   ]
  },
  {
   "cell_type": "markdown",
   "metadata": {},
   "source": [
    "# Aggregate data to show availability rates of each treatment by state and location type"
   ]
  },
  {
   "cell_type": "code",
   "execution_count": null,
   "metadata": {},
   "outputs": [],
   "source": [
    "agg_df = df.groupby(['state', 'location_type']).agg(\n",
    "    paxlovid_rate=pd.NamedAgg(column='has_paxlovid', aggfunc='mean'),\n",
    "    lagevrio_rate=pd.NamedAgg(column='has_lagevrio', aggfunc='mean'),\n",
    "    veklury_rate=pd.NamedAgg(column='has_veklury', aggfunc='mean')\n",
    ").reset_index()\n",
    "agg_df.rename(columns={'paxlovid_rate': 'Paxlovid Availability Rate', \n",
    "                       'lagevrio_rate': 'Lagevrio Availability Rate', \n",
    "                       'veklury_rate': 'Veklury Availability Rate'}, inplace=True)"
   ]
  },
  {
   "cell_type": "markdown",
   "metadata": {},
   "source": [
    "# Ensure latitude and longitude are formatted correctly for mapping in Tableau\n"
   ]
  },
  {
   "cell_type": "code",
   "execution_count": null,
   "metadata": {},
   "outputs": [],
   "source": [
    "df['latitude'] = df['latitude'].astype(float)\n",
    "df['longitude'] = df['longitude'].astype(float)"
   ]
  },
  {
   "cell_type": "markdown",
   "metadata": {},
   "source": [
    "# 5. Exporting Data for Tableau\n",
    "\n",
    "## Export to CSV"
   ]
  },
  {
   "cell_type": "code",
   "execution_count": null,
   "metadata": {},
   "outputs": [],
   "source": [
    "df.to_csv('full_data_for_tableau.csv', index=False)\n",
    "agg_df.to_csv('aggregated_data_for_tableau.csv', index=False)\n"
   ]
  }
 ],
 "metadata": {
  "kernelspec": {
   "display_name": "Python 3",
   "language": "python",
   "name": "python3"
  },
  "language_info": {
   "name": "python",
   "version": "3.11.5"
  }
 },
 "nbformat": 4,
 "nbformat_minor": 2
}
